{
 "cells": [
  {
   "cell_type": "code",
   "execution_count": 1,
   "metadata": {},
   "outputs": [],
   "source": [
    "import pandas as pd\n",
    "import numpy as np\n",
    "import matplotlib.pyplot as plt\n",
    "import keras"
   ]
  },
  {
   "cell_type": "markdown",
   "metadata": {},
   "source": [
    "# Import Data"
   ]
  },
  {
   "cell_type": "code",
   "execution_count": 2,
   "metadata": {},
   "outputs": [],
   "source": [
    "import os\n",
    "\n",
    "# Customised for Windows setup\n",
    "# os.chdir('/MAST30034-Group-Project/')"
   ]
  },
  {
   "cell_type": "code",
   "execution_count": 3,
   "metadata": {},
   "outputs": [
    {
     "name": "stderr",
     "output_type": "stream",
     "text": [
      "C:\\Users\\c33041440\\Anaconda3\\lib\\site-packages\\ipykernel_launcher.py:3: FutureWarning: The default value of regex will change from True to False in a future version. In addition, single character regular expressions will*not* be treated as literal strings when regex=True.\n",
      "  This is separate from the ipykernel package so we can avoid doing imports until\n"
     ]
    }
   ],
   "source": [
    "# Customised for Mac/Linux setup\n",
    "raw_data = pd.read_csv(\"kaggle_bee_vs_wasp/labels.csv\")\n",
    "raw_data['path'] = raw_data['path'].str.replace(\"\\\\\", \"/\")"
   ]
  },
  {
   "cell_type": "markdown",
   "metadata": {},
   "source": [
    "By removing the low quality photos, we get rid of the is_other instances"
   ]
  },
  {
   "cell_type": "code",
   "execution_count": 4,
   "metadata": {},
   "outputs": [],
   "source": [
    "high_quality_entries = raw_data[raw_data[\"photo_quality\"] == 1]\n",
    "high_quality_entries =high_quality_entries[high_quality_entries[\"label\"] != \"insect\"]"
   ]
  },
  {
   "cell_type": "code",
   "execution_count": 5,
   "metadata": {
    "scrolled": true
   },
   "outputs": [
    {
     "name": "stdout",
     "output_type": "stream",
     "text": [
      "(4596, 10)\n"
     ]
    },
    {
     "data": {
      "text/html": [
       "<div>\n",
       "<style scoped>\n",
       "    .dataframe tbody tr th:only-of-type {\n",
       "        vertical-align: middle;\n",
       "    }\n",
       "\n",
       "    .dataframe tbody tr th {\n",
       "        vertical-align: top;\n",
       "    }\n",
       "\n",
       "    .dataframe thead th {\n",
       "        text-align: right;\n",
       "    }\n",
       "</style>\n",
       "<table border=\"1\" class=\"dataframe\">\n",
       "  <thead>\n",
       "    <tr style=\"text-align: right;\">\n",
       "      <th></th>\n",
       "      <th>id</th>\n",
       "      <th>path</th>\n",
       "      <th>is_bee</th>\n",
       "      <th>is_wasp</th>\n",
       "      <th>is_otherinsect</th>\n",
       "      <th>is_other</th>\n",
       "      <th>photo_quality</th>\n",
       "      <th>is_validation</th>\n",
       "      <th>is_final_validation</th>\n",
       "      <th>label</th>\n",
       "    </tr>\n",
       "  </thead>\n",
       "  <tbody>\n",
       "    <tr>\n",
       "      <th>0</th>\n",
       "      <td>1</td>\n",
       "      <td>bee1/10007154554_026417cfd0_n.jpg</td>\n",
       "      <td>1</td>\n",
       "      <td>0</td>\n",
       "      <td>0</td>\n",
       "      <td>0</td>\n",
       "      <td>1</td>\n",
       "      <td>0</td>\n",
       "      <td>0</td>\n",
       "      <td>bee</td>\n",
       "    </tr>\n",
       "    <tr>\n",
       "      <th>1</th>\n",
       "      <td>2</td>\n",
       "      <td>bee1/10024864894_6dc54d4b34_n.jpg</td>\n",
       "      <td>1</td>\n",
       "      <td>0</td>\n",
       "      <td>0</td>\n",
       "      <td>0</td>\n",
       "      <td>1</td>\n",
       "      <td>0</td>\n",
       "      <td>1</td>\n",
       "      <td>bee</td>\n",
       "    </tr>\n",
       "    <tr>\n",
       "      <th>2</th>\n",
       "      <td>3</td>\n",
       "      <td>bee1/10092043833_7306dfd1f0_n.jpg</td>\n",
       "      <td>1</td>\n",
       "      <td>0</td>\n",
       "      <td>0</td>\n",
       "      <td>0</td>\n",
       "      <td>1</td>\n",
       "      <td>1</td>\n",
       "      <td>0</td>\n",
       "      <td>bee</td>\n",
       "    </tr>\n",
       "    <tr>\n",
       "      <th>3</th>\n",
       "      <td>4</td>\n",
       "      <td>bee1/1011948979_fc3637e779_w.jpg</td>\n",
       "      <td>1</td>\n",
       "      <td>0</td>\n",
       "      <td>0</td>\n",
       "      <td>0</td>\n",
       "      <td>1</td>\n",
       "      <td>0</td>\n",
       "      <td>1</td>\n",
       "      <td>bee</td>\n",
       "    </tr>\n",
       "    <tr>\n",
       "      <th>4</th>\n",
       "      <td>5</td>\n",
       "      <td>bee1/10128235063_dca17db76c_n.jpg</td>\n",
       "      <td>1</td>\n",
       "      <td>0</td>\n",
       "      <td>0</td>\n",
       "      <td>0</td>\n",
       "      <td>1</td>\n",
       "      <td>0</td>\n",
       "      <td>0</td>\n",
       "      <td>bee</td>\n",
       "    </tr>\n",
       "  </tbody>\n",
       "</table>\n",
       "</div>"
      ],
      "text/plain": [
       "   id                               path  is_bee  is_wasp  is_otherinsect  \\\n",
       "0   1  bee1/10007154554_026417cfd0_n.jpg       1        0               0   \n",
       "1   2  bee1/10024864894_6dc54d4b34_n.jpg       1        0               0   \n",
       "2   3  bee1/10092043833_7306dfd1f0_n.jpg       1        0               0   \n",
       "3   4   bee1/1011948979_fc3637e779_w.jpg       1        0               0   \n",
       "4   5  bee1/10128235063_dca17db76c_n.jpg       1        0               0   \n",
       "\n",
       "   is_other  photo_quality  is_validation  is_final_validation label  \n",
       "0         0              1              0                    0   bee  \n",
       "1         0              1              0                    1   bee  \n",
       "2         0              1              1                    0   bee  \n",
       "3         0              1              0                    1   bee  \n",
       "4         0              1              0                    0   bee  "
      ]
     },
     "execution_count": 5,
     "metadata": {},
     "output_type": "execute_result"
    }
   ],
   "source": [
    "print(high_quality_entries.shape)\n",
    "high_quality_entries.head()"
   ]
  },
  {
   "cell_type": "code",
   "execution_count": 6,
   "metadata": {},
   "outputs": [],
   "source": [
    "[_,label_num] = np.unique(high_quality_entries[\"label\"].values, return_inverse = True)\n",
    "high_quality_entries.insert(loc = 0, column = \"label_num\", value = label_num)"
   ]
  },
  {
   "cell_type": "code",
   "execution_count": 7,
   "metadata": {
    "scrolled": true
   },
   "outputs": [
    {
     "name": "stdout",
     "output_type": "stream",
     "text": [
      "(4596, 11)\n",
      "(4592, 11)\n"
     ]
    }
   ],
   "source": [
    "print(high_quality_entries.shape)\n",
    "\n",
    "for ind, row in high_quality_entries.iterrows():\n",
    "    if not os.path.exists(\"kaggle_bee_vs_wasp/\" + row['path']):\n",
    "        #print(row)\n",
    "        high_quality_entries = high_quality_entries.drop(ind)\n",
    "        \n",
    "print(high_quality_entries.shape)"
   ]
  },
  {
   "cell_type": "code",
   "execution_count": 8,
   "metadata": {},
   "outputs": [
    {
     "data": {
      "text/plain": [
       "0"
      ]
     },
     "execution_count": 8,
     "metadata": {},
     "output_type": "execute_result"
    }
   ],
   "source": [
    "# No non-insects found in the dataset\n",
    "list(high_quality_entries[\"is_other\"]).count(1)"
   ]
  },
  {
   "cell_type": "code",
   "execution_count": 9,
   "metadata": {
    "scrolled": true
   },
   "outputs": [
    {
     "data": {
      "text/plain": [
       "False"
      ]
     },
     "execution_count": 9,
     "metadata": {},
     "output_type": "execute_result"
    }
   ],
   "source": [
    "3 in list(high_quality_entries[\"label_num\"].values)"
   ]
  },
  {
   "cell_type": "code",
   "execution_count": 10,
   "metadata": {},
   "outputs": [],
   "source": [
    "#taking a random sample for faster training time\n",
    "# high_quality_entries = high_quality_entries.sample(1000)"
   ]
  },
  {
   "cell_type": "code",
   "execution_count": 11,
   "metadata": {},
   "outputs": [],
   "source": [
    "images_path = high_quality_entries[\"path\"].values.reshape(-1, 1)\n",
    "labels = high_quality_entries[\"label\"].values.reshape(-1, 1)"
   ]
  },
  {
   "cell_type": "markdown",
   "metadata": {},
   "source": [
    "# Data"
   ]
  },
  {
   "cell_type": "code",
   "execution_count": 12,
   "metadata": {},
   "outputs": [],
   "source": [
    "from matplotlib.image import imread\n",
    "from skimage.transform import resize"
   ]
  },
  {
   "cell_type": "code",
   "execution_count": 13,
   "metadata": {
    "tags": []
   },
   "outputs": [
    {
     "name": "stdout",
     "output_type": "stream",
     "text": [
      "1667\n",
      "4030\n",
      "4030\n",
      "1667\n",
      "Number of images: (4590, 224, 224, 3)\n",
      "Number of labels: (4590,)\n"
     ]
    }
   ],
   "source": [
    "images = []\n",
    "\n",
    "# Read, resize, store\n",
    "for image_path in images_path:\n",
    "    img = imread(os.path.join(\"kaggle_bee_vs_wasp\", image_path[0]))\n",
    "    img = resize(img, (224,224))\n",
    "    images.append(img)\n",
    "\n",
    "# Removed wrong size\n",
    "images_to_remove_indices = []\n",
    "\n",
    "for im in range(len(images)):\n",
    "    if images[im].shape != (224,224,3):\n",
    "        #print(im)\n",
    "        images_to_remove_indices.append(im)\n",
    "\n",
    "for index in images_to_remove_indices:\n",
    "    print(index)\n",
    "\n",
    "# Remove the labels of the anomalous images\n",
    "labels_deleted = np.delete(labels, images_to_remove_indices)\n",
    "\n",
    "for im in reversed(images_to_remove_indices):\n",
    "    print(im)\n",
    "    del images[im]\n",
    "    \n",
    "image_array = np.array(images)\n",
    "print('Number of images:', image_array.shape)\n",
    "print('Number of labels:', labels_deleted.shape)"
   ]
  },
  {
   "cell_type": "code",
   "execution_count": 14,
   "metadata": {
    "scrolled": false
   },
   "outputs": [],
   "source": [
    "# #If you need to check the images.\n",
    "\n",
    "# #imread outputs integers between 0-255\n",
    "\n",
    "# images[0]\n",
    "# f,ax = plt.subplots(3,3)\n",
    "# for i in range(3):\n",
    "#     for j in range(3):\n",
    "#         ax[i,j].imshow(images[i+3*j])"
   ]
  },
  {
   "cell_type": "markdown",
   "metadata": {},
   "source": [
    "## Encoding the image labels"
   ]
  },
  {
   "cell_type": "code",
   "execution_count": 15,
   "metadata": {},
   "outputs": [],
   "source": [
    "from sklearn.preprocessing import LabelEncoder"
   ]
  },
  {
   "cell_type": "code",
   "execution_count": 16,
   "metadata": {
    "scrolled": true
   },
   "outputs": [
    {
     "name": "stdout",
     "output_type": "stream",
     "text": [
      "number of labels: 4590\n"
     ]
    }
   ],
   "source": [
    "# Encode as integers\n",
    "encoder = LabelEncoder()\n",
    "transformed_label = encoder.fit_transform(np.ravel(labels_deleted))\n",
    "\n",
    "print('number of labels:', len(transformed_label))"
   ]
  },
  {
   "cell_type": "code",
   "execution_count": 17,
   "metadata": {},
   "outputs": [
    {
     "data": {
      "text/plain": [
       "(array([0, 1]), array([2468, 2122], dtype=int64))"
      ]
     },
     "execution_count": 17,
     "metadata": {},
     "output_type": "execute_result"
    }
   ],
   "source": [
    "np.unique(transformed_label, return_counts=True)\n",
    "\n",
    "# 2468 bees, 2122 wasps"
   ]
  },
  {
   "cell_type": "code",
   "execution_count": 18,
   "metadata": {},
   "outputs": [
    {
     "name": "stdout",
     "output_type": "stream",
     "text": [
      "0.5376906318082789\n"
     ]
    }
   ],
   "source": [
    "# OR baseline\n",
    "\n",
    "print(max(np.unique(transformed_label, return_counts=True)[1])/len(transformed_label)) \n",
    "# 54% is the baseline"
   ]
  },
  {
   "cell_type": "code",
   "execution_count": 19,
   "metadata": {},
   "outputs": [],
   "source": [
    "# Preserve memory (no VM)\n",
    "del(raw_data)\n",
    "del(images_path)\n",
    "del(high_quality_entries)\n",
    "del(labels)\n",
    "del(labels_deleted)\n",
    "del(images)\n",
    "\n",
    "# all necessary data is in image_array and transformed_label"
   ]
  },
  {
   "cell_type": "markdown",
   "metadata": {},
   "source": [
    "# Data augmentation\n",
    "\n",
    "Split a training set from a validation set first, to prevent data leakage.\n",
    "Augment a training set."
   ]
  },
  {
   "cell_type": "code",
   "execution_count": 20,
   "metadata": {
    "scrolled": true
   },
   "outputs": [
    {
     "name": "stdout",
     "output_type": "stream",
     "text": [
      "Total: (4590, 224, 224, 3) (4590,)\n",
      "Train: (3198, 224, 224, 3) (3198,)\n",
      "Val: (703, 224, 224, 3) (703,)\n",
      "Test: (689, 224, 224, 3) (689,)\n"
     ]
    }
   ],
   "source": [
    "# Train / validation / test split\n",
    "\n",
    "from sklearn.model_selection import train_test_split\n",
    "\n",
    "seeed = 51\n",
    "\n",
    "# 15% in test\n",
    "Xtrain, Xtest, Ytrain, Ytest = train_test_split(image_array, transformed_label, \n",
    "                                              test_size = 0.15, random_state = seeed, \n",
    "                                              stratify = transformed_label)\n",
    "\n",
    "# of remaining 85%, 18% in validation (~15%)\n",
    "Xtrain, Xval, Ytrain, Yval = train_test_split(Xtrain, Ytrain, \n",
    "                                              test_size = 0.18, random_state = seeed, \n",
    "                                              stratify = Ytrain)\n",
    "\n",
    "# Roughly 70% training, 15% validation, 15% in test\n",
    "\n",
    "print('Total:', image_array.shape, transformed_label.shape)\n",
    "print('Train:', Xtrain.shape, Ytrain.shape)\n",
    "print('Val:', Xval.shape, Yval.shape)\n",
    "print('Test:', Xtest.shape, Ytest.shape)"
   ]
  },
  {
   "cell_type": "code",
   "execution_count": 21,
   "metadata": {},
   "outputs": [],
   "source": [
    "# Augmented training data\n",
    "train_generator = keras.preprocessing.image.ImageDataGenerator(\n",
    "    featurewise_center=True, \n",
    "    featurewise_std_normalization=True,\n",
    "    rotation_range=90,\n",
    "    zoom_range=0.4,\n",
    "    horizontal_flip=True,\n",
    "    # vertical_flip==True,\n",
    "    width_shift_range=0.1,\n",
    "    height_shift_range=0.1,\n",
    "    channel_shift_range=0.3)\n",
    "\n",
    "# No augmentation on validation\n",
    "val_generator = keras.preprocessing.image.ImageDataGenerator()\n",
    "\n",
    "train_generator.fit(Xtrain)"
   ]
  },
  {
   "cell_type": "code",
   "execution_count": 22,
   "metadata": {
    "scrolled": true
   },
   "outputs": [
    {
     "name": "stderr",
     "output_type": "stream",
     "text": [
      "Clipping input data to the valid range for imshow with RGB data ([0..1] for floats or [0..255] for integers).\n",
      "Clipping input data to the valid range for imshow with RGB data ([0..1] for floats or [0..255] for integers).\n",
      "Clipping input data to the valid range for imshow with RGB data ([0..1] for floats or [0..255] for integers).\n",
      "Clipping input data to the valid range for imshow with RGB data ([0..1] for floats or [0..255] for integers).\n",
      "Clipping input data to the valid range for imshow with RGB data ([0..1] for floats or [0..255] for integers).\n",
      "Clipping input data to the valid range for imshow with RGB data ([0..1] for floats or [0..255] for integers).\n",
      "Clipping input data to the valid range for imshow with RGB data ([0..1] for floats or [0..255] for integers).\n",
      "Clipping input data to the valid range for imshow with RGB data ([0..1] for floats or [0..255] for integers).\n",
      "Clipping input data to the valid range for imshow with RGB data ([0..1] for floats or [0..255] for integers).\n"
     ]
    },
    {
     "data": {
      "image/png": "[encoded data removed]",
      "text/plain": [
       "<Figure size 432x288 with 9 Axes>"
      ]
     },
     "metadata": {
      "needs_background": "light"
     },
     "output_type": "display_data"
    }
   ],
   "source": [
    "# If images need to be viewed, use batch size 1. Else keep batch size 32\n",
    "\n",
    "augmented_train = train_generator.flow(Xtrain, Ytrain, batch_size=1)\n",
    "\n",
    "for i in range(9):\n",
    "    # define subplot\n",
    "    plt.subplot(330 + 1 + i)\n",
    "    # generate batch of images\n",
    "    batch = augmented_train.next()\n",
    "    # convert to unsigned integers for viewing\n",
    "    image = batch[0]\n",
    "#     # plot raw pixel data\n",
    "    image = np.reshape(image, (224,224,3))\n",
    "    plt.imshow(image)"
   ]
  },
  {
   "cell_type": "code",
   "execution_count": 23,
   "metadata": {},
   "outputs": [],
   "source": [
    "# save memory\n",
    "del(image_array)"
   ]
  },
  {
   "cell_type": "markdown",
   "metadata": {},
   "source": [
    "# Model Construction"
   ]
  },
  {
   "cell_type": "markdown",
   "metadata": {},
   "source": [
    "## Metrics: Accuracy and Loss"
   ]
  },
  {
   "cell_type": "code",
   "execution_count": 24,
   "metadata": {},
   "outputs": [],
   "source": [
    "def plot_model_metrics(hist):\n",
    "    '''\n",
    "    Generates two plots:\n",
    "        1. Training/Validation Accuracy over training epochs\n",
    "        2. Training/Valiation (cross-entropy) loss over training epochs\n",
    "    '''\n",
    "    f, ax = plt.subplots(2,1)\n",
    "    f.subplots_adjust(hspace=0.6)\n",
    "    \n",
    "    ax[0].plot(np.arange(0,len(hist.history['accuracy'])), hist.history['accuracy'])\n",
    "    ax[0].plot(np.arange(0,len(hist.history['val_accuracy'])), hist.history['val_accuracy'])\n",
    "    ax[0].legend(['training', 'validation'])\n",
    "\n",
    "    ax[0].set_xticks(ticks=np.arange(0,len(hist.history['accuracy'])))\n",
    "    ax[0].set_xticklabels(labels=np.arange(0,len(hist.history['accuracy'])))\n",
    "    ax[0].set_xlim(0,len(hist.history['accuracy']))\n",
    "    ax[0].set_xlabel('Epochs')\n",
    "    ax[0].set_title('Model Accuracy')\n",
    "\n",
    "    ax[0].set_yticks(ticks=np.arange(round(min(hist.history['accuracy'])-0.04,1), \n",
    "                                     round(max(hist.history['accuracy'])+0.16, 1), \n",
    "                                     .1))\n",
    "    \n",
    "    ax[1].plot(np.arange(0,len(hist.history['loss'])), hist.history['loss'])\n",
    "    ax[1].plot(np.arange(0,len(hist.history['val_loss'])), hist.history['val_loss'])\n",
    "    ax[1].legend(['training', 'validation'])\n",
    "\n",
    "    ax[1].set_xticks(ticks=np.arange(0,len(hist.history['accuracy'])))\n",
    "    ax[1].set_xticklabels(labels=np.arange(0,len(hist.history['accuracy'])))\n",
    "    ax[1].set_xlim(0,len(hist.history['accuracy']))\n",
    "    ax[1].set_xlabel('Epochs')\n",
    "    ax[1].set_title('Loss')\n",
    "    \n",
    "#     ax[1].set_yticks(ticks=np.arange(0,10,0.1))\n",
    "#     ax[1].set_yticklabels(labels=np.arange(0,11,0.2))\n",
    "    "
   ]
  },
  {
   "cell_type": "code",
   "execution_count": 25,
   "metadata": {},
   "outputs": [],
   "source": [
    "from sklearn.metrics import classification_report, confusion_matrix\n",
    "\n",
    "def confusion_report(truth, predictions):\n",
    "    '''\n",
    "    Input:\n",
    "        truth - true labels\n",
    "        predictions - model.predict(data)\n",
    "    Returns:\n",
    "        classification_report: recall, precision, f1, etc.\n",
    "        confusion matrix\n",
    "    '''\n",
    "    print(classification_report(truth, np.argmax(predictions, axis=-1)))\n",
    "    print(confusion_matrix(truth, np.argmax(predictions, axis=-1)))"
   ]
  },
  {
   "cell_type": "markdown",
   "metadata": {},
   "source": [
    "## Model - MobileNetV2"
   ]
  },
  {
   "cell_type": "code",
   "execution_count": 26,
   "metadata": {
    "scrolled": false
   },
   "outputs": [
    {
     "name": "stdout",
     "output_type": "stream",
     "text": [
      "WARNING:tensorflow:`input_shape` is undefined or non-square, or `rows` is not in [96, 128, 160, 192, 224]. Weights for input shape (224, 224) will be loaded as the default.\n"
     ]
    }
   ],
   "source": [
    "mbnet = keras.applications.mobilenet_v2.MobileNetV2(include_top=False, weights='imagenet')\n",
    "avg = keras.layers.GlobalAveragePooling2D()(mbnet.output)\n",
    "drop = keras.layers.Dropout(0.7)(avg)\n",
    "output = keras.layers.Dense(2, activation='sigmoid')(drop)\n",
    "\n",
    "m0 = keras.Model(inputs = mbnet.input, outputs = output)\n",
    "\n",
    "for layer in mbnet.layers:\n",
    "    layer.trainable = False\n",
    "\n",
    "# If running on a different machine, we suggest using optimizer \"adam\".\n",
    "optimizer = keras.optimizers.SGD(lr=0.2, momentum= 0.9, decay = 0.01)\n",
    "\n",
    "m0.compile(loss=\"sparse_categorical_crossentropy\", \n",
    "           optimizer=\"adam\",\n",
    "           metrics=[\"accuracy\"])"
   ]
  },
  {
   "cell_type": "code",
   "execution_count": 27,
   "metadata": {},
   "outputs": [
    {
     "name": "stdout",
     "output_type": "stream",
     "text": [
      "Epoch 1/23\n",
      "20/20 [==============================] - 41s 2s/step - loss: 0.7444 - accuracy: 0.5531 - val_loss: 0.6284 - val_accuracy: 0.7326\n",
      "Epoch 2/23\n",
      "20/20 [==============================] - 36s 2s/step - loss: 0.6702 - accuracy: 0.6109 - val_loss: 0.5980 - val_accuracy: 0.8321\n",
      "Epoch 3/23\n",
      "20/20 [==============================] - 34s 2s/step - loss: 0.6320 - accuracy: 0.6734 - val_loss: 0.4977 - val_accuracy: 0.8606\n",
      "Epoch 4/23\n",
      "20/20 [==============================] - 33s 2s/step - loss: 0.5656 - accuracy: 0.7469 - val_loss: 0.3569 - val_accuracy: 0.8819\n",
      "Epoch 5/23\n",
      "20/20 [==============================] - 35s 2s/step - loss: 0.5759 - accuracy: 0.7344 - val_loss: 0.3139 - val_accuracy: 0.8848\n",
      "Epoch 6/23\n",
      "20/20 [==============================] - 34s 2s/step - loss: 0.5179 - accuracy: 0.7797 - val_loss: 0.2963 - val_accuracy: 0.8976\n",
      "Epoch 7/23\n",
      "20/20 [==============================] - 35s 2s/step - loss: 0.4730 - accuracy: 0.7828 - val_loss: 0.2849 - val_accuracy: 0.8962\n",
      "Epoch 8/23\n",
      "20/20 [==============================] - 33s 2s/step - loss: 0.4685 - accuracy: 0.7931 - val_loss: 0.2666 - val_accuracy: 0.8990\n",
      "Epoch 9/23\n",
      "20/20 [==============================] - 37s 2s/step - loss: 0.4252 - accuracy: 0.8250 - val_loss: 0.2532 - val_accuracy: 0.9033\n",
      "Epoch 10/23\n",
      "20/20 [==============================] - 39s 2s/step - loss: 0.4549 - accuracy: 0.8088 - val_loss: 0.2457 - val_accuracy: 0.9061\n",
      "Epoch 11/23\n",
      "20/20 [==============================] - 39s 2s/step - loss: 0.4491 - accuracy: 0.7953 - val_loss: 0.2512 - val_accuracy: 0.9104\n",
      "Epoch 12/23\n",
      "20/20 [==============================] - 36s 2s/step - loss: 0.4060 - accuracy: 0.8250 - val_loss: 0.2412 - val_accuracy: 0.9132\n",
      "Epoch 13/23\n",
      "20/20 [==============================] - 40s 2s/step - loss: 0.4272 - accuracy: 0.8141 - val_loss: 0.2562 - val_accuracy: 0.9075\n"
     ]
    }
   ],
   "source": [
    "callback = keras.callbacks.EarlyStopping(monitor='val_loss', patience=3, min_delta = 0.005, restore_best_weights=True)\n",
    "\n",
    "\n",
    "h0 = m0.fit(train_generator.flow(Xtrain, Ytrain, batch_size=32), \n",
    "            epochs=23, steps_per_epoch=20,\n",
    "            validation_data = (Xval, Yval),\n",
    "            callbacks = [callback])\n",
    "\n",
    "# 1 epoch = training on length len(Xtrain) examples\n",
    "\n",
    "# Trains 3,200 images\n",
    "# Validates on len(Yval) (should be entire validation set)"
   ]
  },
  {
   "cell_type": "code",
   "execution_count": 28,
   "metadata": {
    "scrolled": true
   },
   "outputs": [
    {
     "name": "stdout",
     "output_type": "stream",
     "text": [
      "22/22 [==============================] - 16s 740ms/step - loss: 0.2254 - accuracy: 0.9086\n"
     ]
    },
    {
     "data": {
      "text/plain": [
       "[0.22544965147972107, 0.9085631370544434]"
      ]
     },
     "execution_count": 28,
     "metadata": {},
     "output_type": "execute_result"
    }
   ],
   "source": [
    "m0.evaluate(Xtest,Ytest)\n",
    "# 90% accuracy"
   ]
  },
  {
   "cell_type": "code",
   "execution_count": 29,
   "metadata": {
    "scrolled": true
   },
   "outputs": [
    {
     "data": {
      "image/png": "[encoded data removed]",
      "text/plain": [
       "<Figure size 432x288 with 2 Axes>"
      ]
     },
     "metadata": {
      "needs_background": "light"
     },
     "output_type": "display_data"
    }
   ],
   "source": [
    "plot_model_metrics(h0)"
   ]
  },
  {
   "cell_type": "markdown",
   "metadata": {},
   "source": [
    "## Custom-Built Model\n",
    "\n",
    "Speeding up training:\n",
    "* Batch normalisation, Adam optimisation\n",
    "\n",
    "Design options\n",
    "* Convolution: Window size, Stride\n",
    "* Activation functions: Softmax, ReLU\n",
    "* Pooling: Average, Max\n",
    "* Dense layer - fully connected.\n",
    "\n",
    "Regularisation options\n",
    "* Dropout: for regularisation\n",
    "\n",
    "Other options\n",
    "* Residual block (resnet)\n",
    "* Batch normalisation: makes models faster and more stable.\n",
    "\n",
    "Design recommendations\n",
    "* Multiple 3x3 convolutions are preferred. (https://medium.com/analytics-vidhya/how-to-choose-the-size-of-the-convolution-filter-or-kernel-size-for-cnn-86a55a1e2d15, VGGNet?)\n",
    "* Downsample by using pooling to reduce spatial information\n",
    "* Common paradigm is to use max pooling in the network, and average pooling at the end, before the last dense layer\n",
    "* Depth tends to result in higher accuracy\n",
    "\n",
    "After all this, try to augment the data:\n",
    "* rotations\n",
    "* flips\n",
    "* slight colour changes (for lighting conditions)"
   ]
  },
  {
   "cell_type": "code",
   "execution_count": 30,
   "metadata": {},
   "outputs": [],
   "source": [
    "# m1 = keras.models.Sequential()\n",
    "\n",
    "# m1.add(keras.Input(shape = (224, 224, 3)))\n",
    "\n",
    "# m1.add(keras.layers.Conv2D(32, 3, activation = 'relu', padding='same'))\n",
    "# m1.add(keras.layers.MaxPool2D(pool_size=3, strides=2, padding=\"same\"))\n",
    "# # m1.add(keras.layers.BatchNormalization())\n",
    "\n",
    "# m1.add(keras.layers.Conv2D(16, 3, activation = 'relu', padding='same'))\n",
    "# m1.add(keras.layers.MaxPool2D(pool_size=3, strides=2, padding=\"same\"))\n",
    "# m1.add(keras.layers.BatchNormalization())\n",
    "\n",
    "\n",
    "# m1.add(keras.layers.Flatten())\n",
    "# m1.add(keras.layers.Dense(16, activation=\"relu\"))\n",
    "# m1.add(keras.layers.BatchNormalization())\n",
    "\n",
    "# # m1.add(keras.layers.Dense(128, activation=\"relu\"))\n",
    "# # # m1.add(keras.layers.GlobalAveragePooling2D())\n",
    "# # m1.add(keras.layers.BatchNormalization())\n",
    "# m1.add(keras.layers.Dense(2, activation=\"sigmoid\"))\n",
    "\n",
    "# optimizer = keras.optimizers.SGD(lr=0.05, momentum= 0.9, decay = 0.01)\n",
    "\n",
    "# m1.compile(loss=\"sparse_categorical_crossentropy\",\n",
    "#            optimizer=\"adam\",\n",
    "#            metrics=[\"accuracy\"])"
   ]
  },
  {
   "cell_type": "code",
   "execution_count": 31,
   "metadata": {
    "scrolled": false
   },
   "outputs": [],
   "source": [
    "# callback = keras.callbacks.EarlyStopping(monitor='val_loss', patience=3, min_delta = 0.005, restore_best_weights=True)\n",
    "\n",
    "# h1 = m1.fit(train_generator.flow(Xtrain, Ytrain, batch_size=32), \n",
    "#             epochs=15, steps_per_epoch=20,\n",
    "#             validation_data = (Xval, Yval),\n",
    "#             callbacks=[callback])\n",
    "\n",
    "# # 32*20 = 640 examples per epoch\n",
    "# # 15,000/640 = 23 epochs to cycle over the original size * 3"
   ]
  },
  {
   "cell_type": "code",
   "execution_count": 32,
   "metadata": {
    "scrolled": true
   },
   "outputs": [],
   "source": [
    "# h1.model.summary()"
   ]
  },
  {
   "cell_type": "code",
   "execution_count": 33,
   "metadata": {
    "scrolled": true
   },
   "outputs": [],
   "source": [
    "# # Very poor results\n",
    "# plot_model_metrics(h1)"
   ]
  },
  {
   "cell_type": "code",
   "execution_count": 34,
   "metadata": {},
   "outputs": [],
   "source": [
    "# m1.evaluate(Xtest, Ytest)"
   ]
  },
  {
   "cell_type": "code",
   "execution_count": 35,
   "metadata": {
    "scrolled": true
   },
   "outputs": [],
   "source": [
    "# confusion_report(Ytest, m1.predict(Xtest))"
   ]
  }
 ],
 "metadata": {
  "kernelspec": {
   "display_name": "Python 3",
   "language": "python",
   "name": "python3"
  },
  "language_info": {
   "codemirror_mode": {
    "name": "ipython",
    "version": 3
   },
   "file_extension": ".py",
   "mimetype": "text/x-python",
   "name": "python",
   "nbconvert_exporter": "python",
   "pygments_lexer": "ipython3",
   "version": "3.7.3"
  },
  "toc": {
   "base_numbering": 1,
   "nav_menu": {},
   "number_sections": true,
   "sideBar": true,
   "skip_h1_title": false,
   "title_cell": "Table of Contents",
   "title_sidebar": "Contents",
   "toc_cell": false,
   "toc_position": {},
   "toc_section_display": true,
   "toc_window_display": false
  },
  "varInspector": {
   "cols": {
    "lenName": 16,
    "lenType": 16,
    "lenVar": 40
   },
   "kernels_config": {
    "python": {
     "delete_cmd_postfix": "",
     "delete_cmd_prefix": "del ",
     "library": "var_list.py",
     "varRefreshCmd": "print(var_dic_list())"
    },
    "r": {
     "delete_cmd_postfix": ") ",
     "delete_cmd_prefix": "rm(",
     "library": "var_list.r",
     "varRefreshCmd": "cat(var_dic_list()) "
    }
   },
   "oldHeight": 621.309808,
   "position": {
    "height": "643.293px",
    "left": "1312.64px",
    "right": "20px",
    "top": "-87.0409px",
    "width": "493.87px"
   },
   "types_to_exclude": [
    "module",
    "function",
    "builtin_function_or_method",
    "instance",
    "_Feature"
   ],
   "varInspector_section_display": "block",
   "window_display": true
  }
 },
 "nbformat": 4,
 "nbformat_minor": 2
}
