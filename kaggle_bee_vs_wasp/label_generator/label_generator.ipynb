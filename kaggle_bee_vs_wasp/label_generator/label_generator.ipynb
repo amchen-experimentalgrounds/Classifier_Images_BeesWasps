{
 "cells": [
  {
   "cell_type": "markdown",
   "metadata": {},
   "source": [
    "# Bees vs Wasps : Generate labels.csv for the observations."
   ]
  },
  {
   "cell_type": "markdown",
   "metadata": {},
   "source": [
    "#### Imports"
   ]
  },
  {
   "cell_type": "code",
   "execution_count": 9,
   "metadata": {},
   "outputs": [],
   "source": [
    "from pathlib import Path\n",
    "import pandas as pd\n",
    "import numpy as np\n",
    "import random"
   ]
  },
  {
   "cell_type": "markdown",
   "metadata": {},
   "source": [
    "#### Constants"
   ]
  },
  {
   "cell_type": "code",
   "execution_count": 10,
   "metadata": {},
   "outputs": [],
   "source": [
    "p_base=Path('f:/kaggle/bee_vs-wasp/manual_curation_pass2/')\n",
    "\n",
    "p_bee1='bee1'  # well curated bees; 'photo_quality' = 1\n",
    "p_bee2='bee2'  # bees from a bee-counting camera, probably easy to overfit on these; 'photo_quality'=0\n",
    "p_wasp1='wasp1' # well curated wasps 'photo_quality'=1\n",
    "p_wasp2='wasp2' # less-well curated wasps 'photo_quality' = 0\n",
    "p_insect='other_insect' # some other insects but not bees and not wasps, 'photo_quality'=1\n",
    "p_noinsect='other_noinsect' # random photos, no insects there 'photo_quality'=1\n",
    "\n",
    "columns = ['id', 'path', 'is_bee', 'is_wasp', 'is_otherinsect','is_other','photo_quality', 'is_validation', 'is_final_validation']\n",
    "\n",
    "validation_ratio = 0.3 # reserve 30% of the data for training validation or final test \n",
    "final_validation_ratio = 0.5 # out of the validation set, mark that many for a final test (that is, do not use for hyperparameter tuning)\n",
    "\n",
    "random.seed(99)\n"
   ]
  },
  {
   "cell_type": "markdown",
   "metadata": {},
   "source": [
    "#### Helper functions"
   ]
  },
  {
   "cell_type": "code",
   "execution_count": 11,
   "metadata": {},
   "outputs": [],
   "source": [
    "def row_maker(idx=0, path=None, is_bee=False, is_wasp=False, is_otherinsect = False, is_other = False, photo_quality = 0, is_validation=False, is_final_validation=False):\n",
    "    observation = pd.DataFrame(\n",
    "        data={\n",
    "            'id': np.int(idx),\n",
    "            'path':str(path.relative_to(p_base)), \n",
    "            'is_bee':np.int(is_bee), \n",
    "            'is_wasp': np.int(is_wasp),\n",
    "            'is_otherinsect': np.int(is_otherinsect),\n",
    "            'is_other': np.int(is_other),\n",
    "            'photo_quality':np.int(photo_quality),\n",
    "            'is_validation':np.int(is_validation),\n",
    "            'is_final_validation':np.int(is_final_validation),            \n",
    "            },index=[idx]\n",
    "            )\n",
    "    return observation\n",
    " \n",
    "\n",
    "def row_adder(dataset_labels, source_path, is_bee=False, is_wasp=False, is_otherinsect = False, is_other = False, photo_quality = 0):\n",
    "    global idx\n",
    "    for thispath in (p_base/source_path).iterdir():\n",
    "        idx=idx+1\n",
    "        is_validation = False\n",
    "        is_final_validation = False\n",
    "        if random.random()<validation_ratio:\n",
    "            if random.random()<final_validation_ratio:\n",
    "                is_final_validation = True\n",
    "            else:\n",
    "                is_validation = True\n",
    "        observation = row_maker(idx,path=thispath,is_bee=is_bee, is_wasp=is_wasp, is_otherinsect = is_otherinsect, is_other = is_other, photo_quality = photo_quality, is_validation=is_validation, is_final_validation=is_final_validation)\n",
    "        dataset_labels=dataset_labels.append(observation)\n",
    "    return dataset_labels        "
   ]
  },
  {
   "cell_type": "markdown",
   "metadata": {},
   "source": [
    "#### Variables"
   ]
  },
  {
   "cell_type": "code",
   "execution_count": 12,
   "metadata": {},
   "outputs": [],
   "source": [
    "dataset_labels = pd.DataFrame(columns=columns)\n",
    "dataset_labels.set_index('id')\n",
    "idx = 0"
   ]
  },
  {
   "cell_type": "markdown",
   "metadata": {},
   "source": [
    "#### Execution"
   ]
  },
  {
   "cell_type": "code",
   "execution_count": 8,
   "metadata": {},
   "outputs": [],
   "source": [
    "dataset_labels = row_adder(dataset_labels, p_bee1, is_bee=True,photo_quality = 1 )\n",
    "dataset_labels = row_adder(dataset_labels, p_bee2, is_bee=True,photo_quality = 0 )\n",
    "dataset_labels = row_adder(dataset_labels, p_wasp1, is_wasp=True,photo_quality = 1 )\n",
    "dataset_labels = row_adder(dataset_labels, p_wasp2, is_wasp=True,photo_quality = 0 )\n",
    "dataset_labels = row_adder(dataset_labels, p_insect, is_otherinsect=True,photo_quality = 1 )\n",
    "dataset_labels = row_adder(dataset_labels, p_noinsect, is_other=True,photo_quality = 0 )\n",
    "dataset_labels= dataset_labels.set_index('id')\n",
    "# create the kind of label format that fastai expects\n",
    "dataset_labels['label']=\"\"\n",
    "dataset_labels.loc[dataset_labels.is_bee==1,'label']=\"bee\"\n",
    "dataset_labels.loc[dataset_labels.is_wasp==1,'label']=\"wasp\"\n",
    "dataset_labels.loc[dataset_labels.is_otherinsect==1,'label']=\"insect\"\n",
    "dataset_labels.loc[dataset_labels.is_other==1,'label']=\"other\"\n",
    "\n",
    "\n",
    "dataset_labels.to_csv('../labels.csv',header=True, index=True, index_label='id', )"
   ]
  },
  {
   "cell_type": "markdown",
   "metadata": {},
   "source": [
    "#### Review"
   ]
  },
  {
   "cell_type": "code",
   "execution_count": 6,
   "metadata": {},
   "outputs": [
    {
     "data": {
      "text/html": [
       "<div>\n",
       "<style scoped>\n",
       "    .dataframe tbody tr th:only-of-type {\n",
       "        vertical-align: middle;\n",
       "    }\n",
       "\n",
       "    .dataframe tbody tr th {\n",
       "        vertical-align: top;\n",
       "    }\n",
       "\n",
       "    .dataframe thead th {\n",
       "        text-align: right;\n",
       "    }\n",
       "</style>\n",
       "<table border=\"1\" class=\"dataframe\">\n",
       "  <thead>\n",
       "    <tr style=\"text-align: right;\">\n",
       "      <th></th>\n",
       "      <th>path</th>\n",
       "      <th>is_bee</th>\n",
       "      <th>is_wasp</th>\n",
       "      <th>is_otherinsect</th>\n",
       "      <th>is_other</th>\n",
       "      <th>photo_quality</th>\n",
       "      <th>is_validation</th>\n",
       "      <th>is_final_validation</th>\n",
       "      <th>label</th>\n",
       "    </tr>\n",
       "    <tr>\n",
       "      <th>id</th>\n",
       "      <th></th>\n",
       "      <th></th>\n",
       "      <th></th>\n",
       "      <th></th>\n",
       "      <th></th>\n",
       "      <th></th>\n",
       "      <th></th>\n",
       "      <th></th>\n",
       "      <th></th>\n",
       "    </tr>\n",
       "  </thead>\n",
       "  <tbody>\n",
       "    <tr>\n",
       "      <th>11417</th>\n",
       "      <td>other_noinsect\\581704.jpg</td>\n",
       "      <td>0</td>\n",
       "      <td>0</td>\n",
       "      <td>0</td>\n",
       "      <td>1</td>\n",
       "      <td>0</td>\n",
       "      <td>0</td>\n",
       "      <td>1</td>\n",
       "      <td>other</td>\n",
       "    </tr>\n",
       "    <tr>\n",
       "      <th>11418</th>\n",
       "      <td>other_noinsect\\581873.jpg</td>\n",
       "      <td>0</td>\n",
       "      <td>0</td>\n",
       "      <td>0</td>\n",
       "      <td>1</td>\n",
       "      <td>0</td>\n",
       "      <td>0</td>\n",
       "      <td>1</td>\n",
       "      <td>other</td>\n",
       "    </tr>\n",
       "    <tr>\n",
       "      <th>11419</th>\n",
       "      <td>other_noinsect\\581880.jpg</td>\n",
       "      <td>0</td>\n",
       "      <td>0</td>\n",
       "      <td>0</td>\n",
       "      <td>1</td>\n",
       "      <td>0</td>\n",
       "      <td>1</td>\n",
       "      <td>0</td>\n",
       "      <td>other</td>\n",
       "    </tr>\n",
       "    <tr>\n",
       "      <th>11420</th>\n",
       "      <td>other_noinsect\\6778651038_294d392627_n.jpg</td>\n",
       "      <td>0</td>\n",
       "      <td>0</td>\n",
       "      <td>0</td>\n",
       "      <td>1</td>\n",
       "      <td>0</td>\n",
       "      <td>0</td>\n",
       "      <td>1</td>\n",
       "      <td>other</td>\n",
       "    </tr>\n",
       "    <tr>\n",
       "      <th>11421</th>\n",
       "      <td>other_noinsect\\9695883931_d5efb955d2_m.jpg</td>\n",
       "      <td>0</td>\n",
       "      <td>0</td>\n",
       "      <td>0</td>\n",
       "      <td>1</td>\n",
       "      <td>0</td>\n",
       "      <td>0</td>\n",
       "      <td>0</td>\n",
       "      <td>other</td>\n",
       "    </tr>\n",
       "  </tbody>\n",
       "</table>\n",
       "</div>"
      ],
      "text/plain": [
       "                                             path is_bee is_wasp  \\\n",
       "id                                                                 \n",
       "11417                   other_noinsect\\581704.jpg      0       0   \n",
       "11418                   other_noinsect\\581873.jpg      0       0   \n",
       "11419                   other_noinsect\\581880.jpg      0       0   \n",
       "11420  other_noinsect\\6778651038_294d392627_n.jpg      0       0   \n",
       "11421  other_noinsect\\9695883931_d5efb955d2_m.jpg      0       0   \n",
       "\n",
       "      is_otherinsect is_other photo_quality is_validation is_final_validation  \\\n",
       "id                                                                              \n",
       "11417              0        1             0             0                   1   \n",
       "11418              0        1             0             0                   1   \n",
       "11419              0        1             0             1                   0   \n",
       "11420              0        1             0             0                   1   \n",
       "11421              0        1             0             0                   0   \n",
       "\n",
       "       label  \n",
       "id            \n",
       "11417  other  \n",
       "11418  other  \n",
       "11419  other  \n",
       "11420  other  \n",
       "11421  other  "
      ]
     },
     "execution_count": 6,
     "metadata": {},
     "output_type": "execute_result"
    }
   ],
   "source": [
    "dataset_labels.tail()"
   ]
  },
  {
   "cell_type": "code",
   "execution_count": 7,
   "metadata": {},
   "outputs": [
    {
     "name": "stdout",
     "output_type": "stream",
     "text": [
      "we have:\n",
      " bees..........: 3183\n",
      " wasps.........: 4943\n",
      " other insects.: 2439\n",
      " other.........: 856\n",
      "\n",
      "in that, there is:\n",
      " training photos : 7939\n",
      " hyperparameter tuning (1st level validation) photos : 1719\n",
      " final validation (brag about your result with these) photos : 1763\n",
      "\n",
      "In the final validation, there is 504 bees and 753 wasps, meaning that the resolution of the result is 0.08%\n"
     ]
    }
   ],
   "source": [
    "print(f'we have:')\n",
    "print(f' bees..........: {np.sum(dataset_labels.is_bee.values)}')\n",
    "print(f' wasps.........: {np.sum(dataset_labels.is_wasp.values)}')\n",
    "print(f' other insects.: {np.sum(dataset_labels.is_otherinsect.values)}')\n",
    "print(f' other.........: {np.sum(dataset_labels.is_other.values)}')\n",
    "print(f'')\n",
    "print(f'in that, there is:')\n",
    "print(f' training photos : {np.sum(np.logical_and(dataset_labels.is_validation.values==0, dataset_labels.is_final_validation.values==0))}')\n",
    "print(f' hyperparameter tuning (1st level validation) photos : {np.sum(dataset_labels.is_validation.values==1)}')\n",
    "print(f' final validation (brag about your result with these) photos : {np.sum(dataset_labels.is_final_validation.values==1)}')\n",
    "print(f'')\n",
    "valid_bees  = np.sum(np.logical_and(dataset_labels.is_final_validation.values==1, dataset_labels.is_bee.values==1))\n",
    "valid_wasps = np.sum(np.logical_and(dataset_labels.is_final_validation.values==1, dataset_labels.is_wasp.values==1))\n",
    "result_resolution = 100*1.0/(valid_bees+valid_wasps)\n",
    "print(f'In the final validation, there is {valid_bees} bees and {valid_wasps} wasps, meaning that the resolution of the result is {result_resolution:0.2f}%')\n"
   ]
  },
  {
   "cell_type": "markdown",
   "metadata": {},
   "source": [
    "Have fun!"
   ]
  },
  {
   "cell_type": "code",
   "execution_count": null,
   "metadata": {},
   "outputs": [],
   "source": []
  }
 ],
 "metadata": {
  "kernelspec": {
   "display_name": "Python 3",
   "language": "python",
   "name": "python3"
  },
  "language_info": {
   "codemirror_mode": {
    "name": "ipython",
    "version": 3
   },
   "file_extension": ".py",
   "mimetype": "text/x-python",
   "name": "python",
   "nbconvert_exporter": "python",
   "pygments_lexer": "ipython3",
   "version": "3.8.5"
  }
 },
 "nbformat": 4,
 "nbformat_minor": 4
}
